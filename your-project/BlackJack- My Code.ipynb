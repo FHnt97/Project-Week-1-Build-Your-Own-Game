{
 "cells": [
  {
   "cell_type": "markdown",
   "metadata": {},
   "source": [
    "# Blackjack"
   ]
  },
  {
   "cell_type": "markdown",
   "metadata": {},
   "source": [
    "### Before we start"
   ]
  },
  {
   "cell_type": "code",
   "execution_count": null,
   "metadata": {},
   "outputs": [],
   "source": [
    "import sys\n",
    "# * Betting value - to be continued in the game funciton\n",
    "def text():\n",
    "    player_value = input(\"How much money do you want to change into chips [intiger, no currency]? \")\n",
    "    if player_value.isnumeric():\n",
    "        player_value = int(player_value)         \n",
    "    else:\n",
    "        print (\"Make sure to enter a numberic value.\")\n",
    "        sys.exit()\n",
    "        \n",
    "    game_bet = (input(\"If you want to play, you have to bet.\\n How much do you want to bet this round?\"))\n",
    "    if game_bet.isnumeric() == True:\n",
    "        game_bet = int(game_bet)\n",
    "    else:\n",
    "        print (\"Please input a number.\")\n",
    "        sys.exit ()\n",
    "    return (player_value, game_bet)\n"
   ]
  },
  {
   "cell_type": "markdown",
   "metadata": {},
   "source": [
    "### Defining the game funcitons"
   ]
  },
  {
   "cell_type": "markdown",
   "metadata": {},
   "source": [
    "###### For the Hand:"
   ]
  },
  {
   "cell_type": "code",
   "execution_count": null,
   "metadata": {},
   "outputs": [],
   "source": [
    "# Card deck:\n",
    "# Define the deck and the values in the deck\n",
    "# Change planned dictionary to list - dictionary will not work as once a card is layed down, the card has to be removed from the stack\n",
    "import random\n",
    "\n",
    "deck_cards = [2,3,4,5,6,7,8,9,10,\"J\", \"Q\", \"K\", \"A\"] *4\n",
    "\n",
    "\n",
    "def deal_cards():\n",
    "    hand = []\n",
    "    for i in range (2):\n",
    "        card = deck_cards[random.randint (0,12)] \n",
    "        hand.append (card)\n",
    "    return hand\n",
    "\n",
    "    "
   ]
  },
  {
   "cell_type": "markdown",
   "metadata": {},
   "source": [
    "##### For the player's hand"
   ]
  },
  {
   "cell_type": "code",
   "execution_count": null,
   "metadata": {},
   "outputs": [],
   "source": [
    "# Player game, what is the sum of the player's hand\n",
    "# assumption that player will play an intiger and not a letter \n",
    "        # >> for error handling code - see \"before we start in[1]\"\n",
    "# include special funciton for A (1 or 11)\n",
    "def player (hand):\n",
    "    player_points = 0\n",
    "    player_hand = []\n",
    "    for card in hand:\n",
    "        if card == \"J\" or card == \"Q\" or card == \"K\": \n",
    "            player_hand.append(10)\n",
    "        elif card == \"A\":\n",
    "            A = int(input(\"Do you want to play 1 or 11 [1, 11]?\"))\n",
    "            if A !=11 and A !=1:\n",
    "                A = int(input(\"You can only choose from the values 1 or 11 [1, 11]?\"))\n",
    "            else:\n",
    "                print (\"you tried to cheat, you are disqualified\")\n",
    "                exit ()\n",
    "            player_hand.append(A)\n",
    "        else: \n",
    "            player_hand.append(card)\n",
    "    player_hand = sum(player_hand)\n",
    "    player_points += player_hand\n",
    "    return (player_points)\n",
    "\n",
    "\n"
   ]
  },
  {
   "cell_type": "markdown",
   "metadata": {},
   "source": [
    "##### For the dealers hand"
   ]
  },
  {
   "cell_type": "code",
   "execution_count": null,
   "metadata": {},
   "outputs": [],
   "source": [
    "# Dealer game what is the sum of the dealer's hand\n",
    "# include special funciton for A (1 or 11 depending on the total score\n",
    "        \n",
    "def dealer(hand):\n",
    "    dealer_points = 0\n",
    "    dealer_hand = []\n",
    "    for card in hand:\n",
    "        if card == \"J\" or card == \"Q\" or card == \"K\":\n",
    "            dealer_hand.append(10)\n",
    "        elif card == \"A\":\n",
    "            if len(dealer_hand) > 2 and (dealer_hand[0]+dealer_hand[1])> 11:\n",
    "                dealer_hand.append(1)\n",
    "            else:\n",
    "                dealer_hand.append(11)\n",
    "        else: \n",
    "            dealer_hand.append(card)\n",
    "    dealer_hand = sum(dealer_hand)\n",
    "    dealer_points += dealer_hand\n",
    "    return (dealer_points)\n",
    "\n",
    "\n",
    "\n"
   ]
  },
  {
   "cell_type": "markdown",
   "metadata": {},
   "source": [
    "#####  For hit"
   ]
  },
  {
   "cell_type": "code",
   "execution_count": null,
   "metadata": {},
   "outputs": [],
   "source": [
    "# if player chooses to hit following happens:\n",
    "def hit(hand):\n",
    "    hand2 = hand\n",
    "    card = deck_cards[random.randint (0,12)]\n",
    "    hand2.append(card)\n",
    "    return hand2\n"
   ]
  },
  {
   "cell_type": "markdown",
   "metadata": {},
   "source": [
    "##### Play again"
   ]
  },
  {
   "cell_type": "code",
   "execution_count": null,
   "metadata": {},
   "outputs": [],
   "source": [
    "import sys\n",
    "def play_again():           \n",
    "    again = input(\"Do you want to play again [Y/N]? \")\n",
    "    if again != \"Y\" and again != \"N\":\n",
    "            print (\"make sure your answe is in CAPITAL LETTERS\")\n",
    "            again = input(\"Do you want to play again [Y/N]? \")\n",
    "    if again != \"Y\" and again != \"N\":\n",
    "            print (\"wrong input\")\n",
    "            sys.exit()\n",
    "    if again == \"Y\":\n",
    "        dealer_hand = []\n",
    "        player_hand = []\n",
    "        game()\n",
    "    else:\n",
    "        print(\"The game ends here\")"
   ]
  },
  {
   "cell_type": "markdown",
   "metadata": {},
   "source": [
    "### Game Function"
   ]
  },
  {
   "cell_type": "markdown",
   "metadata": {},
   "source": [
    "\n",
    "        "
   ]
  },
  {
   "cell_type": "code",
   "execution_count": null,
   "metadata": {},
   "outputs": [],
   "source": [
    "# Game definition\n",
    "def game():\n",
    "    print (\"This is Blackjack, welcome!\")\n",
    "        \n",
    "    player_hand = deal_cards()\n",
    "    dealer_hand = deal_cards()\n",
    "    \n",
    "    print (f\"You have {player_hand}\")\n",
    "    print (f\"The dealer has {dealer_hand}\")\n",
    "    \n",
    "    ppoints = player(player_hand)\n",
    "    dpoints = dealer(dealer_hand)\n",
    "    \n",
    "    print (f\"You have a total of {ppoints}\")    \n",
    "    print (f\"The dealer has a total of {dpoints}\")\n",
    "    \n",
    "# blackjack exception    \n",
    "    if ppoints == 21:\n",
    "        print (\"You win!\")\n",
    "        exit()\n",
    "    if dpoints == 21:\n",
    "        print (\"You lose!\")\n",
    "        exit()\n",
    "\n",
    "# choice to hit or stand\n",
    "    \n",
    "    choice = input(\"Do you want to hit or stand [h/s]?\")  \n",
    "    if choice != \"h\" and choice != \"s\":\n",
    "        print (\"Wrong input, make sure you enter only h or s [h/s]\")\n",
    "        choice = input(\"Do you want to hit or stand [h/s]?\")\n",
    "    if choice == \"h\":\n",
    "        player_hand = hit(player_hand)\n",
    "        print (f\"You now have {player_hand}\")\n",
    "        ppoints = player (player_hand)\n",
    "        print (f\"you have a total of {ppoints}\")\n",
    "    if dpoints < 17:\n",
    "        dealer_hand = hit(dealer_hand)\n",
    "        print (f\"The dealer now has {dealer_hand}\")\n",
    "        dpoints = dealer(dealer_hand)\n",
    "        print (f\"for a total of {dpoints}\")\n",
    "    else:\n",
    "        print (f\"The dealer still has {dealer_hand}, for a total of {dpoints}\")\n",
    "               \n",
    "# score reslution    \n",
    "    if ppoints == 21:\n",
    "        print (\"You win!\")\n",
    "    if dpoints == 21:\n",
    "        print (\"You lose!\")\n",
    "    if ppoints > 21 and dpoints <21:\n",
    "        print (\"You lose!\")\n",
    "    if dpoints > 21 and ppoints < 21:\n",
    "        print (\"You win!\")\n",
    "    if ppoints < dpoints and dpoints < 21:\n",
    "        print (\"You lose!\")\n",
    "    if ppoints > dpoints and ppoints <21:\n",
    "        print (\"You win!\")\n",
    "         \n",
    "\n",
    "        \n",
    "\n",
    "              "
   ]
  },
  {
   "cell_type": "markdown",
   "metadata": {},
   "source": [
    "### Run Game"
   ]
  },
  {
   "cell_type": "code",
   "execution_count": null,
   "metadata": {},
   "outputs": [
    {
     "name": "stdout",
     "output_type": "stream",
     "text": [
      "How much money do you want to change into chips [intiger, no currency]? 200\n",
      "If you want to play, you have to bet.\n",
      " How much do you want to bet this round?20\n",
      "This is Blackjack, welcome!\n",
      "You have [6, 9]\n",
      "The dealer has [9, 4]\n",
      "You have a total of 15\n",
      "The dealer has a total of 13\n",
      "Do you want to hit or stand [h/s]?h\n",
      "You now have [6, 9, 'A']\n",
      "Do you want to play 1 or 11 [1, 11]?1\n",
      "You can only choose from the values 1 or 11 [1, 11]?1\n",
      "you have a total of 16\n",
      "The dealer now has [9, 4, 'A']\n",
      "for a total of 24\n",
      "You win!\n"
     ]
    }
   ],
   "source": [
    "# run game\n",
    "text()\n",
    "game()\n",
    "play_again ()"
   ]
  },
  {
   "cell_type": "markdown",
   "metadata": {},
   "source": [
    "## Extra Mile"
   ]
  },
  {
   "cell_type": "markdown",
   "metadata": {},
   "source": [
    "######  in construction\n",
    "##### see how to return a \"you are out of money\"\n",
    "\n",
    "- min money per round = 25\n",
    "- min input to enter game = 200\n",
    "\n",
    "while  Player_value < 0:\n",
    "    game ()\n",
    "    # define variable for score - win lose \n",
    "    # depending on win define value \n",
    "    # \n",
    "     Player_value += game_bet_round\n",
    "\n",
    "\n",
    "\n"
   ]
  },
  {
   "cell_type": "code",
   "execution_count": null,
   "metadata": {},
   "outputs": [],
   "source": []
  },
  {
   "cell_type": "code",
   "execution_count": null,
   "metadata": {},
   "outputs": [],
   "source": []
  }
 ],
 "metadata": {
  "kernelspec": {
   "display_name": "Python 3",
   "language": "python",
   "name": "python3"
  }
 },
 "nbformat": 4,
 "nbformat_minor": 2
}
