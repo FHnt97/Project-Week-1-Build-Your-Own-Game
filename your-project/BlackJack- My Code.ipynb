{
 "cells": [
  {
   "cell_type": "markdown",
   "metadata": {},
   "source": [
    "# Blackjack"
   ]
  },
  {
   "cell_type": "markdown",
   "metadata": {},
   "source": [
    "### Before we start"
   ]
  },
  {
   "cell_type": "code",
   "execution_count": null,
   "metadata": {},
   "outputs": [],
   "source": [
    "# * Betting value - to be continued in the game funciton\n",
    "Player_value: int(input(\"How much money do you want to change into chips (enter a numeric value)?\"))\n",
    "Game_bet: int (input(\"In or out? \\n If you want to play, you have to bet. \\n How much do you want to bet this round?\"))\n"
   ]
  },
  {
   "cell_type": "markdown",
   "metadata": {},
   "source": [
    "### Defining the game funcitons"
   ]
  },
  {
   "cell_type": "markdown",
   "metadata": {},
   "source": [
    "###### For the Hand:"
   ]
  },
  {
   "cell_type": "code",
   "execution_count": null,
   "metadata": {},
   "outputs": [],
   "source": [
    "# Card deck:\n",
    "# Define the deck and the values in the deck\n",
    "# Change planned dictionary to list - dictionary will not work as once a card is layed down, the card has to be removed from the stack\n",
    "\n",
    "Deck_cards = [2,3,4,5,6,7,8,9,10,11,12,13,14] * 4\n",
    "\n",
    "def deal_cards (Deck):\n",
    "    hand = []\n",
    "    for i in range (2):\n",
    "        card = Deck_cards[random.randint (0,12)]\n",
    "        # function needed to remove the card form the deck\n",
    "        if card == 11:\n",
    "            card = \"J\"\n",
    "        if card == 12:\n",
    "            card = \"Q\"\n",
    "        if card == 13\n",
    "            card = \"K\"\n",
    "        if card == 14:\n",
    "            card = \"A\"\n",
    "        hand(card)\n",
    "    return hand\n",
    "   \n",
    "            \n",
    "\n",
    "\n",
    "\n",
    "    \n",
    "    \n",
    "    "
   ]
  },
  {
   "cell_type": "markdown",
   "metadata": {},
   "source": [
    "##### For the player's hand"
   ]
  },
  {
   "cell_type": "code",
   "execution_count": null,
   "metadata": {},
   "outputs": [],
   "source": [
    "# Player game, what is the sum of the player's hand\n",
    "# include special funciton for A (1 or 11)\n",
    "def player_sum (hand):\n",
    "    total player = 0\n",
    "    for card in hand:\n",
    "        if card == \"J\" or card == \"Q\" or card == \"K\":\n",
    "            hand.replace (card, 10)\n",
    "        else card == \"A\":\n",
    "            A = int(input(\"Do you want to play 1 or 11 [1, 11]?\"))\n",
    "            hand.replace (card, A)\n",
    "    return (total_player += sum(hand))\n",
    "\n",
    "\n",
    "# if player chooses to hit following happens:\n",
    "def hit_player(hand):\n",
    "    card = Deck_cards[random.randint (0,12)]\n",
    "    if card == 11:\n",
    "        card = \"J\"\n",
    "    if card == 12:\n",
    "        card = \"Q\"\n",
    "    if card == 13\n",
    "        card = \"K\"\n",
    "    if card == 14:\n",
    "        card = \"A\"\n",
    "    hand.append(card)\n",
    "    return hand\n",
    "\n",
    "\n"
   ]
  },
  {
   "cell_type": "markdown",
   "metadata": {},
   "source": [
    "##### For the dealers hand"
   ]
  },
  {
   "cell_type": "code",
   "execution_count": null,
   "metadata": {},
   "outputs": [],
   "source": [
    "# Dealer game what is the sum of the dealer's hand\n",
    "# include special funciton for A (1 or 11 depending on the total score\n",
    "        \n",
    "def dealer_sum(hand):\n",
    "    total_dealer = 0\n",
    "    for card in hand:\n",
    "        if card == \"J\" or card == \"Q\" or card == \"K\":\n",
    "            hand.replace (card, 10)\n",
    "        else card == \"A\":\n",
    "            if sum(hand) > 11: \n",
    "                hand.replace (card, 1)\n",
    "            else hand.replace (card, 11)\n",
    "    return (total_dealer += sum (hand))\n",
    "\n",
    "\n",
    "def hit_computer (hand):\n",
    "    while dealer_sum < 17:\n",
    "        card = Deck_cards[random.randint (0,12)]\n",
    "        if card == 11:\n",
    "            card = \"J\"\n",
    "        if card == 12:\n",
    "            card = \"Q\"\n",
    "        if card == 13\n",
    "            card = \"K\"\n",
    "        if card == 14:\n",
    "            card = \"A\"\n",
    "        hand.append(card)\n",
    "    return (hand)\n",
    "    \n",
    "    "
   ]
  },
  {
   "cell_type": "markdown",
   "metadata": {},
   "source": [
    "##### To define the wining criteria"
   ]
  },
  {
   "cell_type": "code",
   "execution_count": null,
   "metadata": {},
   "outputs": [],
   "source": [
    "# win or loose\n",
    "def score (player, dealer):\n",
    "    # if dealer 21\n",
    "    # if player 21\n",
    "    # if dealer over 21\n",
    "    # if player over 21\n",
    "    # if dealer + player\n",
    "    # if player + dealer\n",
    "    "
   ]
  },
  {
   "cell_type": "markdown",
   "metadata": {},
   "source": [
    "### Game Function"
   ]
  },
  {
   "cell_type": "code",
   "execution_count": null,
   "metadata": {},
   "outputs": [],
   "source": [
    "# Game definition\n",
    "def game ():\n",
    "    print (\"This is Blackjack, welcome!\")\n",
    "    player_hand = deal_cards (Deck_cards)\n",
    "    dealer_hand = deal_cards (Deck_cards)\n",
    "    print (f (\"You have {player_hand}, for a total of {player_sum(player_hand)}\")\n",
    "    print (f (\"The dealer has {player_hand}, for a total of {dealer_sum(dealer_hand)}\"\n",
    "    # choice of hit/ stand inside game or inside sum?\n",
    "    chice = input (\"Do you want to hit or stand [h/s]?\")\n",
    "    if choice == \"h\":\n",
    "         hit_player(player_hand)\n",
    "    hit_dealer(dealer_hand)\n",
    "    score (player_hand, dealer_hand)\n",
    "    # add play again fucntion?\n",
    "              "
   ]
  },
  {
   "cell_type": "markdown",
   "metadata": {},
   "source": [
    "### Run Game"
   ]
  },
  {
   "cell_type": "code",
   "execution_count": null,
   "metadata": {},
   "outputs": [],
   "source": [
    "# run game\n",
    "game()\n"
   ]
  },
  {
   "cell_type": "markdown",
   "metadata": {},
   "source": [
    "## Extra Mile"
   ]
  },
  {
   "cell_type": "markdown",
   "metadata": {},
   "source": [
    "# in construction\n",
    "#*add while loop for betting etc. - copy from rock paper scissors\n",
    "### see how to return a \"you are out of money\"\n",
    "\n",
    "while  Player_value < 0:\n",
    "    game ()\n",
    "    # define variable for score - win lose \n",
    "    # depending on win define value \n",
    "    # \n",
    "     Player_value += game_bet_round\n",
    "\n",
    "\n",
    "\n"
   ]
  },
  {
   "cell_type": "code",
   "execution_count": null,
   "metadata": {},
   "outputs": [],
   "source": []
  }
 ],
 "metadata": {
  "kernelspec": {
   "display_name": "Python 3",
   "language": "python",
   "name": "python3"
  },
  "language_info": {
   "codemirror_mode": {
    "name": "ipython",
    "version": 3
   },
   "file_extension": ".py",
   "mimetype": "text/x-python",
   "name": "python",
   "nbconvert_exporter": "python",
   "pygments_lexer": "ipython3",
   "version": "3.7.3"
  }
 },
 "nbformat": 4,
 "nbformat_minor": 2
}
