{
 "cells": [
  {
   "cell_type": "markdown",
   "metadata": {},
   "source": [
    "# Blackjack"
   ]
  },
  {
   "cell_type": "markdown",
   "metadata": {},
   "source": [
    "### Before we start"
   ]
  },
  {
   "cell_type": "code",
   "execution_count": null,
   "metadata": {},
   "outputs": [],
   "source": [
    "# * Betting value - to be continued in the game funciton\n",
    "Player_value = int(input(\"How much money do you want to change into chips [intiger, no currency]? \\n (The minimum value to enter the game is 200$)\"))\n",
    "\n",
    "\n",
    "Game_bet = int(input(\"If you want to play, you have to bet. \\n How much do you want to bet this round?\"))\n",
    "\n",
    "                     \n",
    "\n",
    "                     \n",
    "                     \n",
    "                     \n",
    "                     \n",
    "# add an error saver  - maybe error if not from list of possible choices or multiples\n",
    "\n",
    "# add: \\n Remember, you can choose from the green (25$), the black (100$), the purple (500$), and the yellow (1000) chips\"?"
   ]
  },
  {
   "cell_type": "markdown",
   "metadata": {},
   "source": [
    "def is_number (variable):\n",
    "    Player_value = int(input(\"How much money do you want to change into chips (enter a numeric value)?\"))\n",
    "    Game_bet = int(input(\"In or out? \\n If you want to play, you have to bet. \\n How much do you want to bet this round?\"))\n",
    "    if Player_value is     :\n",
    "        return Player_value\n",
    "    else:\n",
    "        print (\"Invalid input, please check you are writitng just the number, not the currency\")\n",
    "        return is_number(variable)\n",
    "\n",
    "    \n",
    "##### see if a fucntion/ shortcut can be found to do this for all my input variables"
   ]
  },
  {
   "cell_type": "markdown",
   "metadata": {},
   "source": [
    "### Defining the game funcitons"
   ]
  },
  {
   "cell_type": "markdown",
   "metadata": {},
   "source": [
    "###### For the Hand:"
   ]
  },
  {
   "cell_type": "code",
   "execution_count": 6,
   "metadata": {},
   "outputs": [
    {
     "ename": "RecursionError",
     "evalue": "maximum recursion depth exceeded",
     "output_type": "error",
     "traceback": [
      "\u001b[1;31m---------------------------------------------------------------------------\u001b[0m",
      "\u001b[1;31mRecursionError\u001b[0m                            Traceback (most recent call last)",
      "\u001b[1;32m<ipython-input-6-e866710ace60>\u001b[0m in \u001b[0;36m<module>\u001b[1;34m\u001b[0m\n\u001b[0;32m     22\u001b[0m \u001b[1;33m\u001b[0m\u001b[0m\n\u001b[0;32m     23\u001b[0m \u001b[1;33m\u001b[0m\u001b[0m\n\u001b[1;32m---> 24\u001b[1;33m \u001b[0mprint\u001b[0m \u001b[1;33m(\u001b[0m\u001b[1;33m(\u001b[0m\u001b[0mdeal_cards\u001b[0m \u001b[1;33m(\u001b[0m\u001b[0mDeck_cards\u001b[0m\u001b[1;33m)\u001b[0m\u001b[1;33m)\u001b[0m\u001b[1;33m)\u001b[0m\u001b[1;33m\u001b[0m\u001b[1;33m\u001b[0m\u001b[0m\n\u001b[0m\u001b[0;32m     25\u001b[0m \u001b[1;33m\u001b[0m\u001b[0m\n\u001b[0;32m     26\u001b[0m \u001b[1;33m\u001b[0m\u001b[0m\n",
      "\u001b[1;32m<ipython-input-6-e866710ace60>\u001b[0m in \u001b[0;36mdeal_cards\u001b[1;34m(Deck)\u001b[0m\n\u001b[0;32m      7\u001b[0m \u001b[1;33m\u001b[0m\u001b[0m\n\u001b[0;32m      8\u001b[0m \u001b[1;32mdef\u001b[0m \u001b[0mdeal_cards\u001b[0m \u001b[1;33m(\u001b[0m\u001b[0mDeck\u001b[0m\u001b[1;33m)\u001b[0m\u001b[1;33m:\u001b[0m\u001b[1;33m\u001b[0m\u001b[1;33m\u001b[0m\u001b[0m\n\u001b[1;32m----> 9\u001b[1;33m     \u001b[0mhand\u001b[0m \u001b[1;33m=\u001b[0m \u001b[1;33m(\u001b[0m\u001b[0mdeal_cards\u001b[0m\u001b[1;33m(\u001b[0m\u001b[0mDeck_cards\u001b[0m\u001b[1;33m)\u001b[0m\u001b[1;33m)\u001b[0m\u001b[1;33m\u001b[0m\u001b[1;33m\u001b[0m\u001b[0m\n\u001b[0m\u001b[0;32m     10\u001b[0m     \u001b[1;32mfor\u001b[0m \u001b[0mi\u001b[0m \u001b[1;32min\u001b[0m \u001b[0mrange\u001b[0m \u001b[1;33m(\u001b[0m\u001b[1;36m2\u001b[0m\u001b[1;33m)\u001b[0m\u001b[1;33m:\u001b[0m\u001b[1;33m\u001b[0m\u001b[1;33m\u001b[0m\u001b[0m\n\u001b[0;32m     11\u001b[0m         \u001b[0mcard\u001b[0m \u001b[1;33m=\u001b[0m \u001b[0mDeck_cards\u001b[0m\u001b[1;33m[\u001b[0m\u001b[0mrandom\u001b[0m\u001b[1;33m.\u001b[0m\u001b[0mrandint\u001b[0m \u001b[1;33m(\u001b[0m\u001b[1;36m0\u001b[0m\u001b[1;33m,\u001b[0m\u001b[1;36m12\u001b[0m\u001b[1;33m)\u001b[0m\u001b[1;33m]\u001b[0m\u001b[1;33m\u001b[0m\u001b[1;33m\u001b[0m\u001b[0m\n",
      "... last 1 frames repeated, from the frame below ...\n",
      "\u001b[1;32m<ipython-input-6-e866710ace60>\u001b[0m in \u001b[0;36mdeal_cards\u001b[1;34m(Deck)\u001b[0m\n\u001b[0;32m      7\u001b[0m \u001b[1;33m\u001b[0m\u001b[0m\n\u001b[0;32m      8\u001b[0m \u001b[1;32mdef\u001b[0m \u001b[0mdeal_cards\u001b[0m \u001b[1;33m(\u001b[0m\u001b[0mDeck\u001b[0m\u001b[1;33m)\u001b[0m\u001b[1;33m:\u001b[0m\u001b[1;33m\u001b[0m\u001b[1;33m\u001b[0m\u001b[0m\n\u001b[1;32m----> 9\u001b[1;33m     \u001b[0mhand\u001b[0m \u001b[1;33m=\u001b[0m \u001b[1;33m(\u001b[0m\u001b[0mdeal_cards\u001b[0m\u001b[1;33m(\u001b[0m\u001b[0mDeck_cards\u001b[0m\u001b[1;33m)\u001b[0m\u001b[1;33m)\u001b[0m\u001b[1;33m\u001b[0m\u001b[1;33m\u001b[0m\u001b[0m\n\u001b[0m\u001b[0;32m     10\u001b[0m     \u001b[1;32mfor\u001b[0m \u001b[0mi\u001b[0m \u001b[1;32min\u001b[0m \u001b[0mrange\u001b[0m \u001b[1;33m(\u001b[0m\u001b[1;36m2\u001b[0m\u001b[1;33m)\u001b[0m\u001b[1;33m:\u001b[0m\u001b[1;33m\u001b[0m\u001b[1;33m\u001b[0m\u001b[0m\n\u001b[0;32m     11\u001b[0m         \u001b[0mcard\u001b[0m \u001b[1;33m=\u001b[0m \u001b[0mDeck_cards\u001b[0m\u001b[1;33m[\u001b[0m\u001b[0mrandom\u001b[0m\u001b[1;33m.\u001b[0m\u001b[0mrandint\u001b[0m \u001b[1;33m(\u001b[0m\u001b[1;36m0\u001b[0m\u001b[1;33m,\u001b[0m\u001b[1;36m12\u001b[0m\u001b[1;33m)\u001b[0m\u001b[1;33m]\u001b[0m\u001b[1;33m\u001b[0m\u001b[1;33m\u001b[0m\u001b[0m\n",
      "\u001b[1;31mRecursionError\u001b[0m: maximum recursion depth exceeded"
     ]
    }
   ],
   "source": [
    "# Card deck:\n",
    "# Define the deck and the values in the deck\n",
    "# Change planned dictionary to list - dictionary will not work as once a card is layed down, the card has to be removed from the stack\n",
    "import random\n",
    "\n",
    "Deck_cards = [2,3,4,5,6,7,8,9,10,11,12,13,14] *4\n",
    "\n",
    "def deal_cards (Deck):\n",
    "    hand = (Deck_cards)\n",
    "    for i in range (2):\n",
    "        card = Deck_cards[random.randint (0,12)]\n",
    "        if card == 11:\n",
    "            card = \"J\"\n",
    "        if card == 12:\n",
    "            card = \"Q\"\n",
    "        if card == 13:\n",
    "            card = \"K\"\n",
    "        if card == 14:\n",
    "            card = \"A\"\n",
    "        hand.append (card)\n",
    "    return hand\n",
    "   \n",
    "            \n",
    "print ((deal_cards (Deck_cards)))\n",
    "\n",
    "\n",
    "    \n",
    "    \n",
    "    "
   ]
  },
  {
   "cell_type": "markdown",
   "metadata": {},
   "source": [
    "##### For the player's hand"
   ]
  },
  {
   "cell_type": "code",
   "execution_count": 4,
   "metadata": {},
   "outputs": [
    {
     "name": "stdout",
     "output_type": "stream",
     "text": [
      "['K', 10]\n",
      "20\n"
     ]
    }
   ],
   "source": [
    "# Player game, what is the sum of the player's hand\n",
    "# include special funciton for A (1 or 11)\n",
    "def player_sum (hand):\n",
    "    total_player = 0\n",
    "    hand_player = (deal_cards (Deck_cards))\n",
    "    print (hand_player)\n",
    "    for card in hand_player:\n",
    "        if card == \"J\" or card == \"Q\" or card == \"K\":\n",
    "            hand_player.remove (card)\n",
    "            hand_player.append(10)\n",
    "        elif card == \"A\":\n",
    "            A = int(input(\"Do you want to play 1 or 11 [1, 11]?\"))\n",
    "            hand_player.remove(card)\n",
    "            hand_player.append(A)\n",
    "    sum_player = sum(hand_player)  #can maybe be simplified.. but doesnt rlly work\n",
    "    total_player = total_player + sum_player\n",
    "    print (total_player)\n",
    "player_sum (deal_cards (Deck_cards))\n",
    "\n",
    "\n",
    "# if player chooses to hit following happens:\n",
    "def hit_player(hand):\n",
    "    hand = (deal_cards(Deck_cards))\n",
    "    card = Deck_cards[random.randint (0,12)]\n",
    "    if card == 11:\n",
    "        card = \"J\"\n",
    "    if card == 12:\n",
    "        card = \"Q\"\n",
    "    if card == 13:\n",
    "        card = \"K\"\n",
    "    if card == 14:\n",
    "        card = \"A\"\n",
    "    hand.append(card)\n",
    "    return hand\n"
   ]
  },
  {
   "cell_type": "markdown",
   "metadata": {},
   "source": [
    "##### For the dealers hand"
   ]
  },
  {
   "cell_type": "code",
   "execution_count": null,
   "metadata": {},
   "outputs": [],
   "source": [
    "# Dealer game what is the sum of the dealer's hand\n",
    "# include special funciton for A (1 or 11 depending on the total score\n",
    "        \n",
    "def dealer_sum(hand):\n",
    "    total_dealer = 0\n",
    "    hand_dealer = (deal_cards (Deck_cards))\n",
    "    for card in hand_dealer:\n",
    "        if card == \"J\" or card == \"Q\" or card == \"K\":\n",
    "            hand_dealer.remove (card)\n",
    "            hand_dealer.append(10)\n",
    "        elif card == \"A\":\n",
    "            if sum(hand) > 11: \n",
    "                hand_dealer.remove(card)\n",
    "                hand_dealer.append(1)\n",
    "            else:\n",
    "                hand_dealer.remove(card)\n",
    "                hand_dealer.append(11)\n",
    "    sum_dealer = sum(hand_dealer)  #can maybe be simplified.. but doesnt rlly work\n",
    "    total_dealer = total_dealer + sum_dealer\n",
    "    return (total_dealer)\n",
    "\n",
    "\n",
    "    \n",
    "def hit_dealer (hand):\n",
    "    hand = (deal_cards(Deck_cards))\n",
    "    total_dealer = int(dealer_sum (deal_cards(Deck_cards)))\n",
    "    while total_dealer < 17:\n",
    "        card = Deck_cards[random.randint (0,12)]\n",
    "        if card == 11:\n",
    "            card = \"J\"\n",
    "        if card == 12:\n",
    "            card = \"Q\"\n",
    "        if card == 13:\n",
    "            card = \"K\"\n",
    "        if card == 14:\n",
    "            card = \"A\"\n",
    "        hand.append(card)\n",
    "    return (hand)\n",
    "\n",
    "    \n",
    "\n",
    "\n"
   ]
  },
  {
   "cell_type": "markdown",
   "metadata": {},
   "source": [
    "##### To define the wining criteria"
   ]
  },
  {
   "cell_type": "code",
   "execution_count": null,
   "metadata": {},
   "outputs": [],
   "source": [
    "# win or loose\n",
    "def score (player, dealer):\n",
    "    # if dealer 21\n",
    "    # if player 21\n",
    "    # if dealer over 21\n",
    "    # if player over 21\n",
    "    # if dealer + player\n",
    "    # if player + dealer\n",
    "    "
   ]
  },
  {
   "cell_type": "markdown",
   "metadata": {},
   "source": [
    "### Game Function"
   ]
  },
  {
   "cell_type": "code",
   "execution_count": 2,
   "metadata": {},
   "outputs": [
    {
     "name": "stdout",
     "output_type": "stream",
     "text": [
      "This is Blackjack, welcome!\n"
     ]
    },
    {
     "ename": "NameError",
     "evalue": "name 'deal_cards' is not defined",
     "output_type": "error",
     "traceback": [
      "\u001b[1;31m---------------------------------------------------------------------------\u001b[0m",
      "\u001b[1;31mNameError\u001b[0m                                 Traceback (most recent call last)",
      "\u001b[1;32m<ipython-input-2-0d81ffd74203>\u001b[0m in \u001b[0;36m<module>\u001b[1;34m\u001b[0m\n\u001b[0;32m     31\u001b[0m         \u001b[0mprint\u001b[0m\u001b[1;33m(\u001b[0m\u001b[1;34m\"The game ends here\"\u001b[0m\u001b[1;33m)\u001b[0m\u001b[1;33m\u001b[0m\u001b[1;33m\u001b[0m\u001b[0m\n\u001b[0;32m     32\u001b[0m \u001b[1;33m\u001b[0m\u001b[0m\n\u001b[1;32m---> 33\u001b[1;33m \u001b[0mgame\u001b[0m \u001b[1;33m(\u001b[0m\u001b[1;33m)\u001b[0m\u001b[1;33m\u001b[0m\u001b[1;33m\u001b[0m\u001b[0m\n\u001b[0m\u001b[0;32m     34\u001b[0m \u001b[1;33m\u001b[0m\u001b[0m\n\u001b[0;32m     35\u001b[0m \u001b[1;33m\u001b[0m\u001b[0m\n",
      "\u001b[1;32m<ipython-input-2-0d81ffd74203>\u001b[0m in \u001b[0;36mgame\u001b[1;34m()\u001b[0m\n\u001b[0;32m      5\u001b[0m     \u001b[0mprint\u001b[0m \u001b[1;33m(\u001b[0m\u001b[1;34m\"This is Blackjack, welcome!\"\u001b[0m\u001b[1;33m)\u001b[0m\u001b[1;33m\u001b[0m\u001b[1;33m\u001b[0m\u001b[0m\n\u001b[0;32m      6\u001b[0m \u001b[1;33m\u001b[0m\u001b[0m\n\u001b[1;32m----> 7\u001b[1;33m     \u001b[0mplayer_hand\u001b[0m \u001b[1;33m=\u001b[0m \u001b[0mdeal_cards\u001b[0m \u001b[1;33m(\u001b[0m\u001b[0mDeck_cards\u001b[0m\u001b[1;33m)\u001b[0m\u001b[1;33m\u001b[0m\u001b[1;33m\u001b[0m\u001b[0m\n\u001b[0m\u001b[0;32m      8\u001b[0m     \u001b[0mdealer_hand\u001b[0m \u001b[1;33m=\u001b[0m \u001b[0mdeal_cards\u001b[0m \u001b[1;33m(\u001b[0m\u001b[0mDeck_cards\u001b[0m\u001b[1;33m)\u001b[0m\u001b[1;33m\u001b[0m\u001b[1;33m\u001b[0m\u001b[0m\n\u001b[0;32m      9\u001b[0m \u001b[1;33m\u001b[0m\u001b[0m\n",
      "\u001b[1;31mNameError\u001b[0m: name 'deal_cards' is not defined"
     ]
    }
   ],
   "source": [
    "Deck_cards = [2,3,4,5,6,7,8,9,10,11,12,13,14] *4\n",
    "\n",
    "# Game definition\n",
    "def game ():\n",
    "    print (\"This is Blackjack, welcome!\")\n",
    "        \n",
    "    player_hand = deal_cards (Deck_cards)\n",
    "    dealer_hand = deal_cards (Deck_cards)\n",
    "    \n",
    "    psum = player_sum (deal_cards (Deck_cards))\n",
    "    dsum = dealer_sum (deal_cards (Deck_cards))\n",
    "    \n",
    "    print (f\"You have {player_hand}, for a total of {psum}\")\n",
    "    print (f\"The dealer has {dealer_hand}, for a total of {dsum}\")\n",
    "           \n",
    "    choice = input(\"Do you want to hit or stand [h/s]?\")\n",
    "           \n",
    "    if choice == \"h\":\n",
    "         hit_player(player_hand)\n",
    "           \n",
    "    hit_dealer (dealer_hand)\n",
    "           \n",
    "# score def missing\n",
    "           \n",
    "    again = input(\"Do you want to play again [Y/N]? \")\n",
    "    if again == \"Y\":\n",
    "        dealer_hand = []\n",
    "        player_hand = []\n",
    "        game()\n",
    "    else:\n",
    "        print(\"The game ends here\")\n",
    "        \n",
    "game ()      \n",
    "\n",
    "              "
   ]
  },
  {
   "cell_type": "markdown",
   "metadata": {},
   "source": [
    "### Run Game"
   ]
  },
  {
   "cell_type": "code",
   "execution_count": null,
   "metadata": {},
   "outputs": [],
   "source": [
    "# run game\n",
    "game()\n"
   ]
  },
  {
   "cell_type": "markdown",
   "metadata": {},
   "source": [
    "## Extra Mile"
   ]
  },
  {
   "cell_type": "markdown",
   "metadata": {},
   "source": [
    "######  in construction\n",
    "##### see how to return a \"you are out of money\"\n",
    "- green chip 25, black chip 100, purple chip 500, yelow chip 1000\n",
    "- min money per round = 25\n",
    "- min input to enter game = 200\n",
    "\n",
    "while  Player_value < 0:\n",
    "    game ()\n",
    "    # define variable for score - win lose \n",
    "    # depending on win define value \n",
    "    # \n",
    "     Player_value += game_bet_round\n",
    "\n",
    "\n",
    "\n"
   ]
  },
  {
   "cell_type": "code",
   "execution_count": null,
   "metadata": {},
   "outputs": [],
   "source": []
  }
 ],
 "metadata": {
  "kernelspec": {
   "display_name": "Python 3",
   "language": "python",
   "name": "python3"
  }
 },
 "nbformat": 4,
 "nbformat_minor": 2
}
