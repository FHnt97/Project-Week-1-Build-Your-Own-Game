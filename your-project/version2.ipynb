{
 "cells": [
  {
   "cell_type": "markdown",
   "metadata": {},
   "source": [
    "# Blackjack"
   ]
  },
  {
   "cell_type": "markdown",
   "metadata": {},
   "source": [
    "### Defining the game funcitons"
   ]
  },
  {
   "cell_type": "markdown",
   "metadata": {},
   "source": [
    "###### For the Hand:"
   ]
  },
  {
   "cell_type": "code",
   "execution_count": null,
   "metadata": {},
   "outputs": [],
   "source": [
    "# Card deck:\n",
    "# Define the deck and the values in the deck\n",
    "# Change planned dictionary to list - dictionary will not work as once a card is layed down, the card has to be removed from the stack\n",
    "import random\n",
    "import sys\n",
    "\n",
    "deck_cards = [2,3,4,5,6,7,8,9,10,\"J\", \"Q\", \"K\", \"A\"] *4\n",
    "\n",
    "\n",
    "def deal_cards():\n",
    "    hand = []\n",
    "    for i in range (2):\n",
    "        card = deck_cards[random.randint (0,12)] \n",
    "        hand.append (card)\n",
    "    return hand\n"
   ]
  },
  {
   "cell_type": "markdown",
   "metadata": {},
   "source": [
    "#### deck for hit:"
   ]
  },
  {
   "cell_type": "code",
   "execution_count": null,
   "metadata": {},
   "outputs": [],
   "source": [
    "# if player chooses to hit following happens:\n",
    "def hit(hand):\n",
    "    hand2 = hand\n",
    "    card = deck_cards[random.randint (0,12)]\n",
    "    hand2.append(card)\n",
    "    return hand2   "
   ]
  },
  {
   "cell_type": "markdown",
   "metadata": {},
   "source": [
    "##### For the player's hand"
   ]
  },
  {
   "cell_type": "code",
   "execution_count": null,
   "metadata": {},
   "outputs": [],
   "source": [
    "# Player game, what is the sum of the player's hand\n",
    "# assumption that player will play an intiger and not a letter \n",
    "        # >> for error handling code - see \n",
    "# include special funciton for A (1 or 11)\n",
    "def player (hand):\n",
    "    player_points = 0\n",
    "    player_hand = []\n",
    "    for card in hand:\n",
    "        if card == \"J\" or card == \"Q\" or card == \"K\": \n",
    "            player_hand.append(10)\n",
    "        elif card == \"A\":\n",
    "            A = int(input(\"Do you want to play 1 or 11 [1, 11]?\"))\n",
    "            player_hand.append(A)\n",
    "        else: \n",
    "            player_hand.append(card)\n",
    "    player_hand = sum(player_hand)\n",
    "    player_points += player_hand\n",
    "    return player_points\n",
    "\n",
    "\n"
   ]
  },
  {
   "cell_type": "markdown",
   "metadata": {},
   "source": [
    "##### For the dealers hand"
   ]
  },
  {
   "cell_type": "code",
   "execution_count": null,
   "metadata": {},
   "outputs": [],
   "source": [
    "# Dealer game what is the sum of the dealer's hand\n",
    "# include special funciton for A (1 or 11 depending on the total score\n",
    "        \n",
    "def dealer(hand):\n",
    "    dealer_points = 0\n",
    "    dealer_hand = []\n",
    "    for card in hand:\n",
    "        if card == \"J\" or card == \"Q\" or card == \"K\":\n",
    "            dealer_hand.append(10)\n",
    "        elif card == \"A\":\n",
    "            if len(dealer_hand) > 2 and (dealer_hand[0]+dealer_hand[1])> 11:\n",
    "                dealer_hand.append(1)\n",
    "            else:\n",
    "                dealer_hand.append(11)\n",
    "        else: \n",
    "            dealer_hand.append(card)\n",
    "    dealer_hand = sum(dealer_hand)\n",
    "    dealer_points += dealer_hand\n",
    "    return dealer_points\n",
    "\n"
   ]
  },
  {
   "cell_type": "markdown",
   "metadata": {},
   "source": [
    "### Game Function"
   ]
  },
  {
   "cell_type": "markdown",
   "metadata": {},
   "source": [
    "\n",
    "        "
   ]
  },
  {
   "cell_type": "code",
   "execution_count": null,
   "metadata": {},
   "outputs": [],
   "source": [
    "# Game definition\n",
    "def game():\n",
    "    \n",
    "    wins = 0\n",
    "        \n",
    "    player_hand = deal_cards()\n",
    "    dealer_hand = deal_cards()\n",
    "    \n",
    "    print (f\"You have {player_hand}\")\n",
    "    print (f\"The dealer has {dealer_hand}\")\n",
    "    \n",
    "    ppoints = player(player_hand)\n",
    "    dpoints = dealer(dealer_hand)\n",
    "    \n",
    "    print (f\"You have a total of {ppoints}\")    \n",
    "    print (f\"The dealer has a total of {dpoints}\")\n",
    "    \n",
    "# blackjack exception    \n",
    "    blackjack = False\n",
    "    if ppoints == 21:\n",
    "        print (\"You win with blackjack!\")\n",
    "        wins += 1\n",
    "        blackjack = True\n",
    "    if ppoints > 21:\n",
    "        print (\"You lose, over 21\")\n",
    "        blackjack = True\n",
    "        \n",
    "    if dpoints == 21:\n",
    "        print (\"You lose, dealer has blackjack!\")\n",
    "        blackjack = True\n",
    "    if dpoints > 21:\n",
    "        print (\"You win, dealer over 21\")\n",
    "        wins +=1 \n",
    "        blackjack = True\n",
    "\n",
    "# choice to hit or stand\n",
    "    if not blackjack:  \n",
    "        choice = input(\"Do you want to hit or stand [h/s]?\")  \n",
    "        if choice != \"h\" and choice != \"s\":\n",
    "            print (\"Wrong input, make sure you enter only h or s [h/s], you have one more chance or the game will end automatically.\")\n",
    "            choice = input(\"Do you want to hit or stand [h/s]?\")\n",
    "            if choice != \"h\" and choice != \"s\":\n",
    "                print (\"Wrong input. \")\n",
    "                sys.exit()\n",
    "        elif choice == \"h\":\n",
    "            player_hand = hit(player_hand)\n",
    "            print (f\"You now have {player_hand}\")\n",
    "            ppoints = player (player_hand)\n",
    "            print (f\"you have a total of {ppoints}\")\n",
    "        if dpoints < 17:\n",
    "            dealer_hand = hit(dealer_hand)\n",
    "            print (f\"The dealer now has {dealer_hand}\")\n",
    "            dpoints = dealer(dealer_hand)\n",
    "            print (f\"for a total of {dpoints}\")\n",
    "        else:\n",
    "            print (f\"The dealer still has {dealer_hand}, for a total of {dpoints}\")\n",
    "               \n",
    "# score reslution    \n",
    "        if ppoints == 21:\n",
    "            print (\"You win!\")\n",
    "            wins += 1\n",
    "        elif dpoints == 21:\n",
    "            print (\"You lose!\")\n",
    "        elif ppoints > 21:\n",
    "            print (\"You lose!\")\n",
    "        elif dpoints > 21:\n",
    "            print (\"You win!\")\n",
    "            wins += 1\n",
    "        elif ppoints < dpoints:\n",
    "            print (\"You lose!\")\n",
    "        elif ppoints > dpoints:\n",
    "            print (\"You win!\")\n",
    "            wins += 1\n",
    "        else: \n",
    "            print (\"You lose!\")\n",
    "    \n",
    "    return wins\n",
    "         \n",
    "\n",
    "        \n",
    "\n",
    "              "
   ]
  },
  {
   "cell_type": "markdown",
   "metadata": {},
   "source": [
    "### Run Game"
   ]
  },
  {
   "cell_type": "code",
   "execution_count": null,
   "metadata": {},
   "outputs": [],
   "source": [
    "# run game\n",
    "import random\n",
    "import sys\n",
    "print (\"This is Blackjack, welcome!\")\n",
    "\n",
    "play = input (\"Start Game? [Y/N]\")\n",
    "if play != \"Y\" and play != \"N\":\n",
    "        print (\"Make sure your answe is in CAPITAL LETTERS\")\n",
    "        play = input(\"Do you want to play again [Y/N]? \")\n",
    "elif play != \"Y\" and play != \"N\":\n",
    "        print (\"Wrong input again. Restart the game\")\n",
    "        sys.exit()\n",
    "\n",
    "player_value = input(\"How much money do you want to change into chips [intiger, no currency]? \")\n",
    "if player_value.isnumeric():\n",
    "    player_value = int(player_value)         \n",
    "else:\n",
    "    print (\"Make sure to enter a numberic value. You will have to re-start the game.\")\n",
    "    sys.exit()\n",
    "\n",
    "def bet():\n",
    "    game_bet = (input(\"If you want to play, you have to bet.\\n How much do you want to bet this round?\"))\n",
    "    if game_bet.isnumeric() == True:\n",
    "        game_bet = int(game_bet)\n",
    "    else:\n",
    "        print (\"Please input a number.\")\n",
    "        sys.exit ()\n",
    "    return (game_bet)\n",
    "         \n",
    "value = player_value\n",
    "again = 0\n",
    "\n",
    "while again == \"Y\" or play == \"Y\" and value >0:\n",
    "    game_bet = bet()\n",
    "    print (\"Your current value is of %s, you bet %s\"% (value, game_bet))\n",
    "    game_win = game()\n",
    "    if game_win >=1:\n",
    "        value += game_bet\n",
    "        print (\"Your current value is of %s\"% (value))\n",
    "    else:\n",
    "        value -= game_bet\n",
    "        print (\"Your current value is of %s\"% (value))\n",
    "    again = input(\"Do you want to play again [Y/N]? \")\n",
    "    if again != \"Y\" and again != \"N\":\n",
    "            print (\"Make sure your answe is in CAPITAL LETTERS\")\n",
    "            again = input(\"Do you want to play again [Y/N]? \")\n",
    "    elif again != \"Y\" and again != \"N\":\n",
    "            print (\"Wrong input\")\n",
    "            sys.exit()\n",
    "    if again == \"N\":\n",
    "        play = \"N\"\n",
    "        print (\"End of Game\")\n",
    "\n"
   ]
  },
  {
   "cell_type": "code",
   "execution_count": null,
   "metadata": {},
   "outputs": [],
   "source": []
  },
  {
   "cell_type": "code",
   "execution_count": null,
   "metadata": {},
   "outputs": [],
   "source": []
  }
 ],
 "metadata": {
  "kernelspec": {
   "display_name": "Python 3",
   "language": "python",
   "name": "python3"
  },
  "language_info": {
   "codemirror_mode": {
    "name": "ipython",
    "version": 3
   },
   "file_extension": ".py",
   "mimetype": "text/x-python",
   "name": "python",
   "nbconvert_exporter": "python",
   "pygments_lexer": "ipython3",
   "version": "3.7.3"
  }
 },
 "nbformat": 4,
 "nbformat_minor": 2
}
